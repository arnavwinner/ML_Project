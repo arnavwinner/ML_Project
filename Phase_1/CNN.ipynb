{
  "cells": [
    {
      "cell_type": "markdown",
      "metadata": {
        "colab_type": "text",
        "id": "view-in-github"
      },
      "source": [
        "<a href=\"https://colab.research.google.com/github/arnavwinner/ML_Project/blob/main/Untitled0.ipynb\" target=\"_parent\"><img src=\"https://colab.research.google.com/assets/colab-badge.svg\" alt=\"Open In Colab\"/></a>"
      ]
    },
    {
      "cell_type": "code",
      "execution_count": 31,
      "metadata": {
        "colab": {
          "base_uri": "https://localhost:8080/",
          "height": 91
        },
        "id": "1tfBaoC8-3Yd",
        "outputId": "fc7dae2c-2583-42f8-ade2-d936a2ba81fc"
      },
      "outputs": [
        {
          "data": {
            "text/html": [
              "\n",
              "     <input type=\"file\" id=\"files-c0cb8d57-7926-4032-aba4-4c9a9de17f56\" name=\"files[]\" multiple disabled\n",
              "        style=\"border:none\" />\n",
              "     <output id=\"result-c0cb8d57-7926-4032-aba4-4c9a9de17f56\">\n",
              "      Upload widget is only available when the cell has been executed in the\n",
              "      current browser session. Please rerun this cell to enable.\n",
              "      </output>\n",
              "      <script>// Copyright 2017 Google LLC\n",
              "//\n",
              "// Licensed under the Apache License, Version 2.0 (the \"License\");\n",
              "// you may not use this file except in compliance with the License.\n",
              "// You may obtain a copy of the License at\n",
              "//\n",
              "//      http://www.apache.org/licenses/LICENSE-2.0\n",
              "//\n",
              "// Unless required by applicable law or agreed to in writing, software\n",
              "// distributed under the License is distributed on an \"AS IS\" BASIS,\n",
              "// WITHOUT WARRANTIES OR CONDITIONS OF ANY KIND, either express or implied.\n",
              "// See the License for the specific language governing permissions and\n",
              "// limitations under the License.\n",
              "\n",
              "/**\n",
              " * @fileoverview Helpers for google.colab Python module.\n",
              " */\n",
              "(function(scope) {\n",
              "function span(text, styleAttributes = {}) {\n",
              "  const element = document.createElement('span');\n",
              "  element.textContent = text;\n",
              "  for (const key of Object.keys(styleAttributes)) {\n",
              "    element.style[key] = styleAttributes[key];\n",
              "  }\n",
              "  return element;\n",
              "}\n",
              "\n",
              "// Max number of bytes which will be uploaded at a time.\n",
              "const MAX_PAYLOAD_SIZE = 100 * 1024;\n",
              "\n",
              "function _uploadFiles(inputId, outputId) {\n",
              "  const steps = uploadFilesStep(inputId, outputId);\n",
              "  const outputElement = document.getElementById(outputId);\n",
              "  // Cache steps on the outputElement to make it available for the next call\n",
              "  // to uploadFilesContinue from Python.\n",
              "  outputElement.steps = steps;\n",
              "\n",
              "  return _uploadFilesContinue(outputId);\n",
              "}\n",
              "\n",
              "// This is roughly an async generator (not supported in the browser yet),\n",
              "// where there are multiple asynchronous steps and the Python side is going\n",
              "// to poll for completion of each step.\n",
              "// This uses a Promise to block the python side on completion of each step,\n",
              "// then passes the result of the previous step as the input to the next step.\n",
              "function _uploadFilesContinue(outputId) {\n",
              "  const outputElement = document.getElementById(outputId);\n",
              "  const steps = outputElement.steps;\n",
              "\n",
              "  const next = steps.next(outputElement.lastPromiseValue);\n",
              "  return Promise.resolve(next.value.promise).then((value) => {\n",
              "    // Cache the last promise value to make it available to the next\n",
              "    // step of the generator.\n",
              "    outputElement.lastPromiseValue = value;\n",
              "    return next.value.response;\n",
              "  });\n",
              "}\n",
              "\n",
              "/**\n",
              " * Generator function which is called between each async step of the upload\n",
              " * process.\n",
              " * @param {string} inputId Element ID of the input file picker element.\n",
              " * @param {string} outputId Element ID of the output display.\n",
              " * @return {!Iterable<!Object>} Iterable of next steps.\n",
              " */\n",
              "function* uploadFilesStep(inputId, outputId) {\n",
              "  const inputElement = document.getElementById(inputId);\n",
              "  inputElement.disabled = false;\n",
              "\n",
              "  const outputElement = document.getElementById(outputId);\n",
              "  outputElement.innerHTML = '';\n",
              "\n",
              "  const pickedPromise = new Promise((resolve) => {\n",
              "    inputElement.addEventListener('change', (e) => {\n",
              "      resolve(e.target.files);\n",
              "    });\n",
              "  });\n",
              "\n",
              "  const cancel = document.createElement('button');\n",
              "  inputElement.parentElement.appendChild(cancel);\n",
              "  cancel.textContent = 'Cancel upload';\n",
              "  const cancelPromise = new Promise((resolve) => {\n",
              "    cancel.onclick = () => {\n",
              "      resolve(null);\n",
              "    };\n",
              "  });\n",
              "\n",
              "  // Wait for the user to pick the files.\n",
              "  const files = yield {\n",
              "    promise: Promise.race([pickedPromise, cancelPromise]),\n",
              "    response: {\n",
              "      action: 'starting',\n",
              "    }\n",
              "  };\n",
              "\n",
              "  cancel.remove();\n",
              "\n",
              "  // Disable the input element since further picks are not allowed.\n",
              "  inputElement.disabled = true;\n",
              "\n",
              "  if (!files) {\n",
              "    return {\n",
              "      response: {\n",
              "        action: 'complete',\n",
              "      }\n",
              "    };\n",
              "  }\n",
              "\n",
              "  for (const file of files) {\n",
              "    const li = document.createElement('li');\n",
              "    li.append(span(file.name, {fontWeight: 'bold'}));\n",
              "    li.append(span(\n",
              "        `(${file.type || 'n/a'}) - ${file.size} bytes, ` +\n",
              "        `last modified: ${\n",
              "            file.lastModifiedDate ? file.lastModifiedDate.toLocaleDateString() :\n",
              "                                    'n/a'} - `));\n",
              "    const percent = span('0% done');\n",
              "    li.appendChild(percent);\n",
              "\n",
              "    outputElement.appendChild(li);\n",
              "\n",
              "    const fileDataPromise = new Promise((resolve) => {\n",
              "      const reader = new FileReader();\n",
              "      reader.onload = (e) => {\n",
              "        resolve(e.target.result);\n",
              "      };\n",
              "      reader.readAsArrayBuffer(file);\n",
              "    });\n",
              "    // Wait for the data to be ready.\n",
              "    let fileData = yield {\n",
              "      promise: fileDataPromise,\n",
              "      response: {\n",
              "        action: 'continue',\n",
              "      }\n",
              "    };\n",
              "\n",
              "    // Use a chunked sending to avoid message size limits. See b/62115660.\n",
              "    let position = 0;\n",
              "    do {\n",
              "      const length = Math.min(fileData.byteLength - position, MAX_PAYLOAD_SIZE);\n",
              "      const chunk = new Uint8Array(fileData, position, length);\n",
              "      position += length;\n",
              "\n",
              "      const base64 = btoa(String.fromCharCode.apply(null, chunk));\n",
              "      yield {\n",
              "        response: {\n",
              "          action: 'append',\n",
              "          file: file.name,\n",
              "          data: base64,\n",
              "        },\n",
              "      };\n",
              "\n",
              "      let percentDone = fileData.byteLength === 0 ?\n",
              "          100 :\n",
              "          Math.round((position / fileData.byteLength) * 100);\n",
              "      percent.textContent = `${percentDone}% done`;\n",
              "\n",
              "    } while (position < fileData.byteLength);\n",
              "  }\n",
              "\n",
              "  // All done.\n",
              "  yield {\n",
              "    response: {\n",
              "      action: 'complete',\n",
              "    }\n",
              "  };\n",
              "}\n",
              "\n",
              "scope.google = scope.google || {};\n",
              "scope.google.colab = scope.google.colab || {};\n",
              "scope.google.colab._files = {\n",
              "  _uploadFiles,\n",
              "  _uploadFilesContinue,\n",
              "};\n",
              "})(self);\n",
              "</script> "
            ],
            "text/plain": [
              "<IPython.core.display.HTML object>"
            ]
          },
          "metadata": {},
          "output_type": "display_data"
        },
        {
          "name": "stdout",
          "output_type": "stream",
          "text": [
            "Saving data_set_train_facenet (2).zip to data_set_train_facenet (2) (1).zip\n",
            "Uploaded file: /content/data_set_train_facenet (2) (1).zip\n"
          ]
        }
      ],
      "source": [
        "from google.colab import files\n",
        "\n",
        "# Use the 'files.upload()' function to upload your dataset\n",
        "uploaded = files.upload()\n",
        "\n",
        "# Provide the file path to the uploaded dataset\n",
        "file_path = '/content/' + list(uploaded.keys())[0]\n",
        "\n",
        "# You can verify the file is uploaded using the following line\n",
        "print(\"Uploaded file:\", file_path)\n"
      ]
    },
    {
      "cell_type": "markdown",
      "metadata": {
        "id": "NjTH5Ud8dqDe"
      },
      "source": [
        "## Extraction of Dataset "
      ]
    },
    {
      "cell_type": "code",
      "execution_count": 32,
      "metadata": {
        "colab": {
          "base_uri": "https://localhost:8080/"
        },
        "id": "ajjXudNt-8v_",
        "outputId": "f57bbce0-6c41-47e3-f156-026915ccfd97"
      },
      "outputs": [
        {
          "name": "stdout",
          "output_type": "stream",
          "text": [
            "Extracted files: ['__MACOSX', 'test_final', 'data_set_train_facenet']\n"
          ]
        }
      ],
      "source": [
        "import zipfile\n",
        "\n",
        "# Specify the path to the uploaded ZIP file\n",
        "zip_file_path = '/content/' + list(uploaded.keys())[0]\n",
        "\n",
        "# Specify the directory where you want to extract the contents\n",
        "extracted_dir_path = '/content/my_dataset2/'\n",
        "\n",
        "# Create the target directory if it doesn't exist\n",
        "import os\n",
        "os.makedirs(extracted_dir_path, exist_ok=True)\n",
        "\n",
        "# Extract the ZIP file to the target directory\n",
        "with zipfile.ZipFile(zip_file_path, 'r') as zip_ref:\n",
        "    zip_ref.extractall(extracted_dir_path)\n",
        "\n",
        "# List the contents of the extracted directory\n",
        "extracted_files = os.listdir(extracted_dir_path)\n",
        "print(\"Extracted files:\", extracted_files)"
      ]
    },
    {
      "cell_type": "markdown",
      "metadata": {},
      "source": [
        "## Preprosessing\n"
      ]
    },
    {
      "cell_type": "code",
      "execution_count": 33,
      "metadata": {
        "colab": {
          "base_uri": "https://localhost:8080/"
        },
        "id": "6KUFzSXj_oFI",
        "outputId": "1722d089-6ba4-47f4-8c53-c4b2a55cb8f9"
      },
      "outputs": [
        {
          "name": "stdout",
          "output_type": "stream",
          "text": [
            "Found 86 images belonging to 14 classes.\n"
          ]
        }
      ],
      "source": [
        "import tensorflow as tf\n",
        "from tensorflow.keras.preprocessing.image import ImageDataGenerator\n",
        "import json\n",
        "\n",
        "# Define parameters for preprocessing\n",
        "image_size = (224, 224)  # Set the desired image size\n",
        "batch_size = 32  # Set your batch size\n",
        "\n",
        "# Create an ImageDataGenerator for data augmentation and normalization\n",
        "datagen = ImageDataGenerator(\n",
        "    rescale=1./255,  # Normalize pixel values to the range [0, 1]\n",
        "    rotation_range=20,  # Randomly rotate images by up to 20 degrees\n",
        "    width_shift_range=0.2,  # Randomly shift images horizontally by up to 20%\n",
        "    height_shift_range=0.2,  # Randomly shift images vertically by up to 20%\n",
        "    shear_range=0.2,  # Apply shear transformation\n",
        "    zoom_range=0.2,  # Randomly zoom in/out\n",
        "    horizontal_flip=True,  # Randomly flip images horizontally\n",
        "    fill_mode='nearest'  # Fill in empty areas with the nearest pixel value\n",
        ")\n",
        "\n",
        "# Load and preprocess the dataset\n",
        "train_data = datagen.flow_from_directory(\n",
        "    '/content/my_dataset2/data_set_train_facenet/train',\n",
        "    target_size=image_size,\n",
        "    batch_size=batch_size,\n",
        "    class_mode='categorical'  # Adjust as needed (binary, sparse, etc.)\n",
        ")\n",
        "\n",
        "# (Optional) Save the data preprocessing settings for later use\n",
        "datagen_config = {\n",
        "    'rescale': 1.0 / 255.0,\n",
        "    'rotation_range': 20,\n",
        "    'width_shift_range': 0.2,\n",
        "    'height_shift_range': 0.2,\n",
        "    'shear_range': 0.2,\n",
        "    'zoom_range': 0.2,\n",
        "    'horizontal_flip': True,\n",
        "    'fill_mode': 'nearest'\n",
        "}\n",
        "\n",
        "# with open('/kaggle/working/datagen_config.json', 'w') as f:\n",
        "#     json.dump(datagen_config, f)\n",
        "\n",
        "# (Optional) Save the class labels for later use\n",
        "# class_labels = list(train_data.class_indices.keys())\n",
        "# with open('/kaggle/working/class_labels.txt', 'w') as f:\n",
        "#     f.write('\\n'.join(class_labels))"
      ]
    },
    {
      "cell_type": "code",
      "execution_count": 34,
      "metadata": {
        "colab": {
          "base_uri": "https://localhost:8080/"
        },
        "id": "cCmfvu7EAFug",
        "outputId": "ca2ff87a-06f0-43a0-9814-7bfc345a5c3d"
      },
      "outputs": [
        {
          "name": "stdout",
          "output_type": "stream",
          "text": [
            "Number of images for each class:\n",
            "Aditya_Tiwari: 6 images\n",
            "Vinayak_Kesarwani: 7 images\n",
            "Kunal_Singla: 6 images\n",
            "Lalit_gaur: 6 images\n",
            "Omm_Prakash_Sahoo: 7 images\n",
            "Arnav_Gautam: 6 images\n",
            "Aditya_Singh: 6 images\n",
            "Karan_Khumbar: 7 images\n",
            "Aditya_Dubey: 7 images\n",
            "Abhishek_Kumar: 8 images\n",
            "Satyam_Sangwan: 7 images\n",
            "Chirovolu_Nikhil: 7 images\n",
            "J_V_Aditya: 7 images\n",
            "Dhruv_Saini: 6 images\n"
          ]
        }
      ],
      "source": [
        "import os\n",
        "import matplotlib.pyplot as plt\n",
        "from PIL import Image\n",
        "\n",
        "# Define the dataset directory\n",
        "dataset_dir = '/content/my_dataset2/data_set_train_facenet/train'\n",
        "\n",
        "# List the available dog breed classes\n",
        "dog_breeds = [breed for breed in os.listdir(dataset_dir) if os.path.isdir(os.path.join(dataset_dir, breed))]\n",
        "\n",
        "# Count the number of images for each breed\n",
        "breed_counts = {breed: len(os.listdir(os.path.join(dataset_dir, breed))) for breed in dog_breeds}\n",
        "\n",
        "# Display the number of images for each breed\n",
        "print(\"Number of images for each class:\")\n",
        "for breed, count in breed_counts.items():\n",
        "    print(f\"{breed}: {count} images\")\n",
        "\n",
        "# Choose a sample image from one of the breeds for visualization\n"
      ]
    },
    {
      "cell_type": "code",
      "execution_count": 35,
      "metadata": {
        "colab": {
          "base_uri": "https://localhost:8080/",
          "height": 700
        },
        "id": "40Di3szrAZT9",
        "outputId": "1b92ac48-5fe9-4a11-a81b-65e7790ea409"
      },
      "outputs": [
        {
          "data": {
            "image/png": "[encoded data removed]",
            "text/plain": [
              "<Figure size 1200x600 with 1 Axes>"
            ]
          },
          "metadata": {},
          "output_type": "display_data"
        }
      ],
      "source": [
        "import matplotlib.pyplot as plt\n",
        "\n",
        "# Count the number of images for each breed\n",
        "people_counts = {breed: len(os.listdir(os.path.join(dataset_dir, breed))) for breed in dog_breeds}\n",
        "\n",
        "# Create a bar chart\n",
        "plt.figure(figsize=(12, 6))\n",
        "plt.bar(people_counts.keys(), people_counts.values())\n",
        "plt.xlabel('People')\n",
        "plt.ylabel('Number of Images')\n",
        "plt.xticks(rotation=90)\n",
        "plt.title('Distribution of Images People')\n",
        "plt.show()"
      ]
    },
    {
      "cell_type": "markdown",
      "metadata": {},
      "source": [
        "## Listing Names"
      ]
    },
    {
      "cell_type": "code",
      "execution_count": 36,
      "metadata": {
        "colab": {
          "base_uri": "https://localhost:8080/"
        },
        "id": "vREbcm6nBCc9",
        "outputId": "3dddafa0-92f8-44e5-b1f9-4b7a4ac14bc8"
      },
      "outputs": [
        {
          "name": "stdout",
          "output_type": "stream",
          "text": [
            "['Aditya_Tiwari', 'Vinayak_Kesarwani', 'Kunal_Singla', 'Lalit_gaur', 'Omm_Prakash_Sahoo', 'Arnav_Gautam', 'Aditya_Singh', 'Karan_Khumbar', 'Aditya_Dubey', 'Abhishek_Kumar', 'Satyam_Sangwan', 'Chirovolu_Nikhil', 'J_V_Aditya', 'Dhruv_Saini']\n"
          ]
        }
      ],
      "source": [
        "import os\n",
        "import random\n",
        "import cv2\n",
        "import numpy as np\n",
        "import pandas as pd\n",
        "from sklearn.preprocessing import LabelEncoder\n",
        "people = list(people_counts.keys())\n",
        "print(people)"
      ]
    },
    {
      "cell_type": "markdown",
      "metadata": {},
      "source": [
        "## Collecting X_train, y_train, X_test, y_test, X_val and y_val"
      ]
    },
    {
      "cell_type": "code",
      "execution_count": 38,
      "metadata": {
        "colab": {
          "base_uri": "https://localhost:8080/"
        },
        "id": "tZh_94LHBUhq",
        "outputId": "5aa573f6-210d-421e-acb0-90c4efcb7df4"
      },
      "outputs": [
        {
          "name": "stderr",
          "output_type": "stream",
          "text": [
            "/usr/local/lib/python3.10/dist-packages/sklearn/preprocessing/_encoders.py:868: FutureWarning: `sparse` was renamed to `sparse_output` in version 1.2 and will be removed in 1.4. `sparse_output` is ignored unless you leave `sparse` to its default value.\n",
            "  warnings.warn(\n",
            "/usr/local/lib/python3.10/dist-packages/sklearn/preprocessing/_encoders.py:868: FutureWarning: `sparse` was renamed to `sparse_output` in version 1.2 and will be removed in 1.4. `sparse_output` is ignored unless you leave `sparse` to its default value.\n",
            "  warnings.warn(\n"
          ]
        },
        {
          "name": "stdout",
          "output_type": "stream",
          "text": [
            "(84, 224, 224, 3) (84, 14)\n",
            "(28, 224, 224, 3) (28, 14)\n",
            "(42, 224, 224, 3) (42, 14)\n"
          ]
        },
        {
          "name": "stderr",
          "output_type": "stream",
          "text": [
            "/usr/local/lib/python3.10/dist-packages/sklearn/preprocessing/_encoders.py:868: FutureWarning: `sparse` was renamed to `sparse_output` in version 1.2 and will be removed in 1.4. `sparse_output` is ignored unless you leave `sparse` to its default value.\n",
            "  warnings.warn(\n"
          ]
        }
      ],
      "source": [
        "import random\n",
        "import cv2\n",
        "import os\n",
        "import numpy as np\n",
        "from sklearn.preprocessing import OneHotEncoder, LabelEncoder\n",
        "validtest = ['Aditya_Tiwari',\"Abhishek_Kumar\",\"Arnav_Gautam\"]\n",
        "# Initialize one-hot encoder and label encoder\n",
        "onehot_encoder = OneHotEncoder(sparse=False)\n",
        "label_encoder = LabelEncoder()\n",
        "\n",
        "def collectdata(directory, num_samples_per_class,people):\n",
        "    X_portion = []\n",
        "    y_portion = []\n",
        "\n",
        "    for label in people:\n",
        "        label_dir = os.path.join(directory, label)\n",
        "        image_files = [f for f in os.listdir(label_dir) if f.lower().endswith(('.png', '.jpg', '.jpeg', '.gif', '.bmp'))]\n",
        "\n",
        "        if len(image_files) < num_samples_per_class:\n",
        "            num_samples_per_class = len(image_files)\n",
        "\n",
        "        selected_files = random.sample(image_files, num_samples_per_class)\n",
        "\n",
        "        for filename in selected_files:\n",
        "            img_path = os.path.join(label_dir, filename)\n",
        "            img = cv2.imread(img_path)\n",
        "\n",
        "            if img is not None:\n",
        "                img = cv2.resize(img, (224, 224))\n",
        "                X_portion.append(img)\n",
        "                y_portion.append(label)\n",
        "\n",
        "    X_portion = np.array(X_portion) / 255\n",
        "    y_portion = label_encoder.fit_transform(y_portion)\n",
        "    y_portion = onehot_encoder.fit_transform(y_portion.reshape(-1, 1))\n",
        "\n",
        "    return X_portion, y_portion\n",
        "\n",
        "# Example usage:\n",
        "X_train, y_train = collectdata('/content/my_dataset2/data_set_train_facenet/data_set_train_facenet/train', 6,people)\n",
        "X_val, y_val = collectdata('/content/my_dataset2/data_set_train_facenet/data_set_train_facenet/val', 2,people)\n",
        "X_test,y_test = collectdata('/content/my_dataset2/data_set_train_facenet/data_set_train_facenet/test', 3,people)\n",
        "print(X_train.shape, y_train.shape)\n",
        "print(X_val.shape, y_val.shape)\n",
        "print(X_test.shape, y_test.shape)\n",
        "\n"
      ]
    },
    {
      "cell_type": "markdown",
      "metadata": {},
      "source": [
        "## Applied CNN"
      ]
    },
    {
      "cell_type": "code",
      "execution_count": 45,
      "metadata": {
        "colab": {
          "base_uri": "https://localhost:8080/"
        },
        "id": "afi5SywuBZSo",
        "outputId": "dc85b9d0-6800-450e-d538-dc33a09fe57b"
      },
      "outputs": [
        {
          "name": "stdout",
          "output_type": "stream",
          "text": [
            "Epoch 1/20\n",
            "42/42 [==============================] - 57s 355ms/step - loss: 2.6470 - accuracy: 0.0595 - val_loss: 2.6362 - val_accuracy: 0.1071\n",
            "Epoch 2/20\n",
            "42/42 [==============================] - 15s 346ms/step - loss: 2.6411 - accuracy: 0.0952 - val_loss: 2.6331 - val_accuracy: 0.1429\n",
            "Epoch 3/20\n",
            "42/42 [==============================] - 16s 384ms/step - loss: 2.6395 - accuracy: 0.0595 - val_loss: 2.6309 - val_accuracy: 0.1429\n",
            "Epoch 4/20\n",
            "42/42 [==============================] - 15s 363ms/step - loss: 2.6390 - accuracy: 0.0357 - val_loss: 2.6292 - val_accuracy: 0.0714\n",
            "Epoch 5/20\n",
            "42/42 [==============================] - 15s 350ms/step - loss: 2.6366 - accuracy: 0.0952 - val_loss: 2.6106 - val_accuracy: 0.1071\n",
            "Epoch 6/20\n",
            "42/42 [==============================] - 15s 360ms/step - loss: 2.6377 - accuracy: 0.0714 - val_loss: 2.5840 - val_accuracy: 0.0714\n",
            "Epoch 7/20\n",
            "42/42 [==============================] - 16s 373ms/step - loss: 2.6076 - accuracy: 0.1190 - val_loss: 2.4789 - val_accuracy: 0.2143\n",
            "Epoch 8/20\n",
            "42/42 [==============================] - 15s 360ms/step - loss: 2.5559 - accuracy: 0.0952 - val_loss: 2.4805 - val_accuracy: 0.0357\n",
            "Epoch 9/20\n",
            "42/42 [==============================] - 15s 354ms/step - loss: 2.5273 - accuracy: 0.0833 - val_loss: 2.3243 - val_accuracy: 0.1429\n",
            "Epoch 10/20\n",
            "42/42 [==============================] - 16s 378ms/step - loss: 2.4590 - accuracy: 0.1548 - val_loss: 2.3782 - val_accuracy: 0.1786\n",
            "Epoch 11/20\n",
            "42/42 [==============================] - 15s 352ms/step - loss: 2.5412 - accuracy: 0.1190 - val_loss: 2.2933 - val_accuracy: 0.2143\n",
            "Epoch 12/20\n",
            "42/42 [==============================] - 15s 354ms/step - loss: 2.4512 - accuracy: 0.2262 - val_loss: 2.2256 - val_accuracy: 0.1429\n",
            "Epoch 13/20\n",
            "42/42 [==============================] - 15s 355ms/step - loss: 2.4547 - accuracy: 0.1905 - val_loss: 2.1762 - val_accuracy: 0.2143\n",
            "Epoch 14/20\n",
            "42/42 [==============================] - 15s 349ms/step - loss: 2.4711 - accuracy: 0.1190 - val_loss: 2.1625 - val_accuracy: 0.1786\n",
            "Epoch 15/20\n",
            "42/42 [==============================] - 15s 349ms/step - loss: 2.4620 - accuracy: 0.1548 - val_loss: 2.3165 - val_accuracy: 0.2143\n",
            "Epoch 16/20\n",
            "42/42 [==============================] - 15s 351ms/step - loss: 2.4429 - accuracy: 0.1667 - val_loss: 2.1427 - val_accuracy: 0.2143\n",
            "Epoch 17/20\n",
            "42/42 [==============================] - 15s 358ms/step - loss: 2.3403 - accuracy: 0.1905 - val_loss: 2.0627 - val_accuracy: 0.2857\n",
            "Epoch 18/20\n",
            "42/42 [==============================] - 15s 354ms/step - loss: 2.3060 - accuracy: 0.1905 - val_loss: 2.0147 - val_accuracy: 0.2857\n",
            "Epoch 19/20\n",
            "42/42 [==============================] - 15s 348ms/step - loss: 2.3684 - accuracy: 0.1310 - val_loss: 2.1554 - val_accuracy: 0.2857\n",
            "Epoch 20/20\n",
            "42/42 [==============================] - 15s 355ms/step - loss: 2.3403 - accuracy: 0.1667 - val_loss: 1.9420 - val_accuracy: 0.2857\n",
            "1/1 [==============================] - 1s 1s/step - loss: 1.9420 - accuracy: 0.2857\n",
            "Validation Loss: 1.9419677257537842, Validation Accuracy: 0.2857142984867096\n"
          ]
        }
      ],
      "source": [
        "# import tensorflow as tf\n",
        "# from tensorflow import keras\n",
        "# from tensorflow.keras import layers\n",
        "\n",
        "# # Define the CNN model\n",
        "# model = keras.Sequential([\n",
        "#     layers.Conv2D(32, (3,3), activation='relu', input_shape=(224, 224, 3)),\n",
        "#     layers.MaxPooling2D((2, 2)),\n",
        "#     layers.Conv2D(64, (3, 3), activation='relu'),\n",
        "#     layers.MaxPooling2D((2, 2)),\n",
        "#     layers.Conv2D(96, (3, 3), activation='relu'),\n",
        "#     layers.MaxPooling2D((2, 2)),\n",
        "#     layers.Conv2D(128, (3, 3), activation='relu'),\n",
        "#     layers.MaxPooling2D((2, 2)),\n",
        "#     layers.Conv2D(96, (3, 3), activation='relu'),\n",
        "#     layers.MaxPooling2D((2, 2)),\n",
        "#     layers.Conv2D(64, (3, 3), activation='relu'),\n",
        "#     layers.MaxPooling2D((2, 2)),\n",
        "#     layers.Flatten(),\n",
        "#     layers.Dense(128, activation='relu'),\n",
        "#     layers.Dense(64, activation='softmax')\n",
        "# ])\n",
        "\n",
        "# # Compile the model with a lower learning rate\n",
        "# model.compile(\n",
        "#     optimizer=tf.keras.optimizers.Adam(learning_rate=0.00001),\n",
        "#     loss='categorical_crossentropy',\n",
        "#     metrics=['accuracy']\n",
        "# )\n",
        "\n",
        "# # Train the model with data augmentation\n",
        "# datagen = keras.preprocessing.image.ImageDataGenerator(\n",
        "#     rotation_range= 20,\n",
        "#     width_shift_range= 0.2,\n",
        "#     height_shift_range= 0.2,\n",
        "#     shear_range=0.2,\n",
        "#     zoom_range= 0.2,\n",
        "#     horizontal_flip= True,\n",
        "#     fill_mode= 'nearest'\n",
        "# )\n",
        "\n",
        "# datagen.fit(X_train)\n",
        "\n",
        "# model.fit(datagen.flow(X_train, y_train, batch_size=3), epochs=10, validation_data=(X_val, y_val))\n",
        "\n",
        "# # Evaluate the model\n",
        "# loss, accuracy = model.evaluate(X_val, y_val)\n",
        "# print(f'Validation Loss: {loss}, Validation Accuracy: {accuracy}')\n",
        "\n",
        "\n",
        "\n",
        "\n",
        "import tensorflow as tf\n",
        "from tensorflow import keras\n",
        "from tensorflow.keras import layers\n",
        "\n",
        "# Define the CNN model\n",
        "model = keras.Sequential([\n",
        "    layers.Conv2D(64, (3, 3), activation='relu', input_shape=(224, 224, 3)),\n",
        "    layers.MaxPooling2D((2, 2)),\n",
        "    layers.Conv2D(64, (3, 3), activation='relu'),\n",
        "    layers.MaxPooling2D((2, 2)),\n",
        "    layers.Conv2D(128, (3, 3), activation='relu'),\n",
        "    layers.MaxPooling2D((2, 2)),\n",
        "    layers.Conv2D(64, (3, 3), activation='relu'),\n",
        "    layers.MaxPooling2D((2, 2)),\n",
        "    layers.Conv2D(64, (3, 3), activation='relu'),\n",
        "    layers.MaxPooling2D((2, 2)),\n",
        "    layers.Conv2D(128, (3, 3), activation='relu'),\n",
        "    layers.MaxPooling2D((2, 2)),\n",
        "    layers.Flatten(),\n",
        "    layers.Dense(128, activation='relu'),\n",
        "    layers.Dropout(0.1),  # Add dropout for regularization\n",
        "    layers.Dense(14, activation='softmax')\n",
        "])\n",
        "\n",
        "# Compile the model with a lower learning rate\n",
        "model.compile(\n",
        "    optimizer=tf.keras.optimizers.Adam(learning_rate=0.0003),\n",
        "    loss='categorical_crossentropy',\n",
        "    metrics=['accuracy']\n",
        ")\n",
        "\n",
        "# Train the model with data augmentation\n",
        "datagen = keras.preprocessing.image.ImageDataGenerator(\n",
        "    rotation_range=20,\n",
        "    width_shift_range=0.2,\n",
        "    height_shift_range=0.2,\n",
        "    shear_range=0.2,\n",
        "    zoom_range=0.2,\n",
        "    horizontal_flip=True,\n",
        "    fill_mode='nearest'\n",
        ")\n",
        "\n",
        "datagen.fit(X_train)\n",
        "\n",
        "model.fit(datagen.flow(X_train, y_train, batch_size=2), epochs=20, validation_data=(X_val, y_val))\n",
        "\n",
        "loss, accuracy = model.evaluate(X_val, y_val)\n",
        "print(f'Validation Loss: {loss}, Validation Accuracy: {accuracy}')\n"
      ]
    },
    {
      "cell_type": "markdown",
      "metadata": {},
      "source": [
        "## Results"
      ]
    },
    {
      "cell_type": "code",
      "execution_count": 50,
      "metadata": {
        "colab": {
          "base_uri": "https://localhost:8080/"
        },
        "id": "z7zGiKCHSjCP",
        "outputId": "6ed4e086-8152-49f6-b7ff-34ecb1f1f825"
      },
      "outputs": [
        {
          "name": "stdout",
          "output_type": "stream",
          "text": [
            "2/2 [==============================] - 2s 344ms/step\n"
          ]
        }
      ],
      "source": [
        "y_pred = model.predict(datagen.flow(X_test))"
      ]
    },
    {
      "cell_type": "code",
      "execution_count": 51,
      "metadata": {
        "colab": {
          "base_uri": "https://localhost:8080/"
        },
        "id": "q-v19346TO8e",
        "outputId": "6cdf1bf8-d9d4-4811-8c3d-464eda7c52b1"
      },
      "outputs": [
        {
          "name": "stdout",
          "output_type": "stream",
          "text": [
            "['Omm_Prakash_Sahoo' 'Chirovolu_Nikhil' 'Kunal_Singla' 'Abhishek_Kumar'\n",
            " 'Abhishek_Kumar' 'Kunal_Singla' 'Aditya_Tiwari' 'Abhishek_Kumar'\n",
            " 'Omm_Prakash_Sahoo' 'Kunal_Singla' 'Aditya_Singh' 'Abhishek_Kumar'\n",
            " 'Arnav_Gautam' 'Arnav_Gautam' 'Dhruv_Saini' 'Kunal_Singla' 'Kunal_Singla'\n",
            " 'Satyam_Sangwan' 'Arnav_Gautam' 'Omm_Prakash_Sahoo' 'Satyam_Sangwan'\n",
            " 'Chirovolu_Nikhil' 'Chirovolu_Nikhil' 'Omm_Prakash_Sahoo'\n",
            " 'Chirovolu_Nikhil' 'Omm_Prakash_Sahoo' 'Aditya_Tiwari' 'Chirovolu_Nikhil'\n",
            " 'Karan_Khumbar' 'Abhishek_Kumar' 'Kunal_Singla' 'Satyam_Sangwan'\n",
            " 'Arnav_Gautam' 'Satyam_Sangwan' 'Kunal_Singla' 'Aditya_Singh'\n",
            " 'Satyam_Sangwan' 'Aditya_Singh' 'Chirovolu_Nikhil' 'Chirovolu_Nikhil'\n",
            " 'Satyam_Sangwan' 'Arnav_Gautam']\n"
          ]
        },
        {
          "name": "stderr",
          "output_type": "stream",
          "text": [
            "/usr/local/lib/python3.10/dist-packages/sklearn/preprocessing/_label.py:155: DataConversionWarning: A column-vector y was passed when a 1d array was expected. Please change the shape of y to (n_samples, ), for example using ravel().\n",
            "  y = column_or_1d(y, warn=True)\n"
          ]
        }
      ],
      "source": [
        "y_pred=onehot_encoder.inverse_transform(y_pred)\n",
        "y_pred=label_encoder.inverse_transform(y_pred)\n",
        "print(y_pred,t_test)"
      ]
    },
    {
      "cell_type": "markdown",
      "metadata": {
        "id": "_B3FIlGqSiUY"
      },
      "source": []
    },
    {
      "cell_type": "code",
      "execution_count": null,
      "metadata": {
        "id": "ZGxoia_hFJsI"
      },
      "outputs": [],
      "source": []
    }
  ],
  "metadata": {
    "colab": {
      "include_colab_link": true,
      "provenance": []
    },
    "kernelspec": {
      "display_name": "Python 3",
      "name": "python3"
    },
    "language_info": {
      "name": "python"
    }
  },
  "nbformat": 4,
  "nbformat_minor": 0
}
